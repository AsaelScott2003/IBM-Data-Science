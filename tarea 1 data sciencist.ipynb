{
 "cells": [
  {
   "cell_type": "markdown",
   "metadata": {},
   "source": [
    "HOMEWORK"
   ]
  },
  {
   "cell_type": "markdown",
   "metadata": {},
   "source": [
    "This is my homework to 6 modul to my course of data sciencist"
   ]
  },
  {
   "cell_type": "markdown",
   "metadata": {},
   "source": [
    "python, r, julia"
   ]
  },
  {
   "cell_type": "markdown",
   "metadata": {},
   "source": [
    "pandas, numpy, mathplotlib, sciPY, tensorflow, scikit-learn, Dataframes.jl, Plots.jl, ggplot2, dplyr"
   ]
  },
  {
   "cell_type": "markdown",
   "metadata": {},
   "source": [
    "| Herramienta         | Lenguaje     | Descripción                                          |\n",
    "|---------------------|--------------|------------------------------------------------------|\n",
    "| Pandas              | Python       | Manipulación y análisis de datos en estructuras tipo DataFrame. |\n",
    "| NumPy               | Python       | Cálculos numéricos y manejo de matrices multidimensionales. |\n",
    "| Matplotlib          | Python       | Visualización de datos a través de gráficos estáticos. |\n",
    "| Seaborn             | Python       | Visualización avanzada y atractiva sobre Matplotlib. |\n",
    "| Scikit-learn        | Python       | Machine learning clásico (regresión, clasificación, clustering). |\n",
    "| TensorFlow          | Python       | Framework para deep learning (redes neuronales).     |\n",
    "| Keras               | Python       | API de alto nivel para crear redes neuronales.       |\n",
    "| Flux.jl             | Julia        | Deep learning en Julia, fácil de usar.               |\n",
    "| DataFrames.jl       | Julia        | Manejo de datos estructurados, similar a Pandas.     |\n",
    "| ggplot2             | R            | Visualización de datos utilizando la gramática de gráficos. |\n",
    "| caret               | R            | Framework de machine learning para entrenar y evaluar modelos. |\n",
    "| Shiny               | R            | Crear aplicaciones web interactivas con R.           |\n"
   ]
  },
  {
   "cell_type": "markdown",
   "metadata": {},
   "source": [
    "operaciones aritmeticas:\n",
    "suma\n",
    "resta\n",
    "multiplicacion\n",
    "divicion\n",
    "raiz\n",
    "exponentes"
   ]
  },
  {
   "cell_type": "code",
   "execution_count": null,
   "metadata": {},
   "outputs": [],
   "source": [
    "def sum(a,b):\n",
    "    return a + b\n",
    "\n",
    "def product(a,b):\n",
    "    return a*b"
   ]
  },
  {
   "cell_type": "code",
   "execution_count": null,
   "metadata": {},
   "outputs": [],
   "source": [
    "def min_to_hours(min):\n",
    "    return min/60"
   ]
  },
  {
   "cell_type": "code",
   "execution_count": null,
   "metadata": {},
   "outputs": [],
   "source": [
    "obj_list = []\n",
    "def add_objet(list = obj_list):\n",
    "    list.append(input('put your objective'))"
   ]
  },
  {
   "cell_type": "markdown",
   "metadata": {},
   "source": [
    "asael scott"
   ]
  }
 ],
 "metadata": {
  "language_info": {
   "name": "python"
  }
 },
 "nbformat": 4,
 "nbformat_minor": 2
}
